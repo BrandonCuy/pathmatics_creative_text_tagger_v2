{
 "cells": [
  {
   "cell_type": "code",
   "execution_count": 1,
   "metadata": {},
   "outputs": [],
   "source": [
    "import os\n",
    "import pandas as pd\n",
    "from sklearn.feature_extraction.text import CountVectorizer\n",
    "import numpy as np\n",
    "import matplotlib.pyplot as plt \n",
    "os.chdir(\"C:/Users/bcuy/Python/brandon_projects/brandon_scripts/pathmatics_creative_text_tagger_v2\")\n",
    "\n",
    "from creative_text.creative_text import CreativeText"
   ]
  },
  {
   "cell_type": "code",
   "execution_count": 2,
   "metadata": {},
   "outputs": [],
   "source": [
    "tagger = CreativeText()\n",
    "\n",
    "filepaths = [\n",
    "    \"data\\Game-Consoles-Daily-Jan-2024.csv\",\n",
    "    \"data\\Game-Consoles-Daily-Feb-2024.csv\"\n",
    "    ]\n",
    "\n",
    "tagger.load_csvs(filepaths)"
   ]
  },
  {
   "cell_type": "code",
   "execution_count": 3,
   "metadata": {},
   "outputs": [],
   "source": [
    "bag_of_words = tagger.get_word_frequency()"
   ]
  },
  {
   "cell_type": "code",
   "execution_count": null,
   "metadata": {},
   "outputs": [],
   "source": [
    "tagger.get_tagged_creative_text_csv(\n",
    "    file_path_list=filepaths,\n",
    "    output_file_name=\"game_consoles_jan-feb_2024\"\n",
    ")"
   ]
  }
 ],
 "metadata": {
  "kernelspec": {
   "display_name": "pathmatics_creative_text_tagger_v2",
   "language": "python",
   "name": "python3"
  },
  "language_info": {
   "codemirror_mode": {
    "name": "ipython",
    "version": 3
   },
   "file_extension": ".py",
   "mimetype": "text/x-python",
   "name": "python",
   "nbconvert_exporter": "python",
   "pygments_lexer": "ipython3",
   "version": "3.9.5"
  }
 },
 "nbformat": 4,
 "nbformat_minor": 2
}
